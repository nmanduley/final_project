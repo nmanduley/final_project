{
 "cells": [
  {
   "cell_type": "code",
   "execution_count": 64,
   "metadata": {},
   "outputs": [],
   "source": [
    "import uuid\n",
    "import streamlit_authenticator as stauth\n",
    "\n",
    "# from bson import json_util\n",
    "# from json import loads\n",
    "from api.data.connection import users_data, users_pass"
   ]
  },
  {
   "cell_type": "code",
   "execution_count": 65,
   "metadata": {},
   "outputs": [
    {
     "name": "stdout",
     "output_type": "stream",
     "text": [
      "e148eacc-078d-4030-969c-1c4428c5e907\n"
     ]
    }
   ],
   "source": [
    "user_id = uuid.uuid4()\n",
    "print(user_id)"
   ]
  },
  {
   "cell_type": "code",
   "execution_count": 67,
   "metadata": {},
   "outputs": [],
   "source": [
    "username='nmanduley'\n",
    "password='test123'\n",
    "first_name='Nicolas'\n",
    "last_name='Manduley'"
   ]
  },
  {
   "cell_type": "code",
   "execution_count": 68,
   "metadata": {},
   "outputs": [],
   "source": [
    "hashed_password = stauth.Hasher(password).generate()[0]\n",
    "\n",
    "add_database = {\n",
    "    \"user_id\":user_id,\n",
    "    \"username\":username,\n",
    "    \"first_name\":first_name,\n",
    "    \"last_name\":last_name}\n",
    "add_password = {\n",
    "    \"user_id\":user_id,\n",
    "    \"password\":hashed_password\n",
    "    }"
   ]
  },
  {
   "cell_type": "code",
   "execution_count": null,
   "metadata": {},
   "outputs": [],
   "source": [
    "user_in = users_data.insert_one(add_database)\n",
    "pass_in = users_pass.insert_one(add_password)\n",
    "print('User created successfully')"
   ]
  },
  {
   "cell_type": "code",
   "execution_count": null,
   "metadata": {},
   "outputs": [],
   "source": [
    "cursor = users_data.find({})\n",
    "for document in cursor:\n",
    "    print(document)"
   ]
  },
  {
   "cell_type": "code",
   "execution_count": 1,
   "metadata": {},
   "outputs": [
    {
     "name": "stdout",
     "output_type": "stream",
     "text": [
      "None\n"
     ]
    }
   ],
   "source": [
    "from api.config import DBURL\n",
    "print(DBURL)"
   ]
  },
  {
   "cell_type": "code",
   "execution_count": null,
   "metadata": {},
   "outputs": [],
   "source": []
  },
  {
   "cell_type": "code",
   "execution_count": 1,
   "metadata": {},
   "outputs": [],
   "source": [
    "from app.dash_functions import load_model, verify\n",
    "import os\n",
    "import cv2"
   ]
  },
  {
   "cell_type": "code",
   "execution_count": 2,
   "metadata": {},
   "outputs": [
    {
     "name": "stdout",
     "output_type": "stream",
     "text": [
      "WARNING:tensorflow:No training configuration found in the save file, so the model was *not* compiled. Compile it manually.\n",
      "Model: \"SiameseNetwork\"\n",
      "__________________________________________________________________________________________________\n",
      " Layer (type)                   Output Shape         Param #     Connected to                     \n",
      "==================================================================================================\n",
      " input_img (InputLayer)         [(None, 100, 100, 3  0           []                               \n",
      "                                )]                                                                \n",
      "                                                                                                  \n",
      " validation_img (InputLayer)    [(None, 100, 100, 3  0           []                               \n",
      "                                )]                                                                \n",
      "                                                                                                  \n",
      " embedding (Functional)         (None, 4096)         38960448    ['input_img[0][0]',              \n",
      "                                                                  'validation_img[0][0]']         \n",
      "                                                                                                  \n",
      " l1_dist (L1Dist)               (None, 4096)         0           ['embedding[0][0]',              \n",
      "                                                                  'embedding[1][0]']              \n",
      "                                                                                                  \n",
      " dense_1 (Dense)                (None, 1)            4097        ['l1_dist[0][0]']                \n",
      "                                                                                                  \n",
      "==================================================================================================\n",
      "Total params: 38,964,545\n",
      "Trainable params: 38,964,545\n",
      "Non-trainable params: 0\n",
      "__________________________________________________________________________________________________\n"
     ]
    }
   ],
   "source": [
    "model = load_model()\n",
    "model.summary()"
   ]
  },
  {
   "cell_type": "code",
   "execution_count": 18,
   "metadata": {},
   "outputs": [
    {
     "ename": "TypeError",
     "evalue": "string indices must be integers",
     "output_type": "error",
     "traceback": [
      "\u001b[1;31m---------------------------------------------------------------------------\u001b[0m",
      "\u001b[1;31mTypeError\u001b[0m                                 Traceback (most recent call last)",
      "Cell \u001b[1;32mIn[18], line 10\u001b[0m\n\u001b[0;32m      8\u001b[0m all_usernames \u001b[39m=\u001b[39m [c[\u001b[39m\"\u001b[39m\u001b[39musername\u001b[39m\u001b[39m\"\u001b[39m] \u001b[39mfor\u001b[39;00m c \u001b[39min\u001b[39;00m usernames_json]\n\u001b[0;32m      9\u001b[0m pass_json \u001b[39m=\u001b[39m requests\u001b[39m.\u001b[39mget(\u001b[39mf\u001b[39m\u001b[39m\"\u001b[39m\u001b[39m{\u001b[39;00mapi_url\u001b[39m}\u001b[39;00m\u001b[39m/hashes/\u001b[39m\u001b[39m{\u001b[39;00mAPI_PASS_KEY\u001b[39m}\u001b[39;00m\u001b[39m\"\u001b[39m)\u001b[39m.\u001b[39mjson()\n\u001b[1;32m---> 10\u001b[0m all_passwords \u001b[39m=\u001b[39m [c[\u001b[39m\"\u001b[39m\u001b[39mpassword\u001b[39m\u001b[39m\"\u001b[39m] \u001b[39mfor\u001b[39;00m c \u001b[39min\u001b[39;00m pass_json]\n",
      "Cell \u001b[1;32mIn[18], line 10\u001b[0m, in \u001b[0;36m<listcomp>\u001b[1;34m(.0)\u001b[0m\n\u001b[0;32m      8\u001b[0m all_usernames \u001b[39m=\u001b[39m [c[\u001b[39m\"\u001b[39m\u001b[39musername\u001b[39m\u001b[39m\"\u001b[39m] \u001b[39mfor\u001b[39;00m c \u001b[39min\u001b[39;00m usernames_json]\n\u001b[0;32m      9\u001b[0m pass_json \u001b[39m=\u001b[39m requests\u001b[39m.\u001b[39mget(\u001b[39mf\u001b[39m\u001b[39m\"\u001b[39m\u001b[39m{\u001b[39;00mapi_url\u001b[39m}\u001b[39;00m\u001b[39m/hashes/\u001b[39m\u001b[39m{\u001b[39;00mAPI_PASS_KEY\u001b[39m}\u001b[39;00m\u001b[39m\"\u001b[39m)\u001b[39m.\u001b[39mjson()\n\u001b[1;32m---> 10\u001b[0m all_passwords \u001b[39m=\u001b[39m [c[\u001b[39m\"\u001b[39;49m\u001b[39mpassword\u001b[39;49m\u001b[39m\"\u001b[39;49m] \u001b[39mfor\u001b[39;00m c \u001b[39min\u001b[39;00m pass_json]\n",
      "\u001b[1;31mTypeError\u001b[0m: string indices must be integers"
     ]
    }
   ],
   "source": [
    "import requests\n",
    "from app.config import API_PASS_KEY\n",
    "\n",
    "api_url = 'http://127.0.0.1:8000'\n",
    "names_json = requests.get(f\"{api_url}/first_names\").json()\n",
    "all_names = [c[\"first_name\"] for c in names_json]\n",
    "usernames_json = requests.get(f\"{api_url}/users\").json()\n",
    "all_usernames = [c[\"username\"] for c in usernames_json]\n",
    "pass_json = requests.get(f\"{api_url}/hashes/{API_PASS_KEY}\").json()\n",
    "all_passwords = [c[\"password\"] for c in pass_json]"
   ]
  },
  {
   "cell_type": "code",
   "execution_count": 41,
   "metadata": {},
   "outputs": [
    {
     "name": "stdout",
     "output_type": "stream",
     "text": [
      "$2b$12$X6KnAHZb/pBiK4KUa/5Fz.x5fhcAm5LCLrCSvVRjCJuuUrUSo8S5K\n"
     ]
    }
   ],
   "source": [
    "import streamlit_authenticator as stauth\n",
    "test_pass = [\"123456\"]\n",
    "hashed_password = stauth.Hasher(test_pass).generate()[0]\n",
    "print(hashed_password)"
   ]
  },
  {
   "cell_type": "code",
   "execution_count": 50,
   "metadata": {},
   "outputs": [
    {
     "data": {
      "text/plain": [
       "['$2b$12$9M/gYoiOYdXy0SulBwyuM.JcDgDhO/5vvtQqJUupFx/SV/p87oA9u',\n",
       " '$2b$12$LLuZl3zVSDS/H8pa2mXPnOPhitV7ayFAF5ouzlXYtIcKpxJ4Tnou2']"
      ]
     },
     "execution_count": 50,
     "metadata": {},
     "output_type": "execute_result"
    }
   ],
   "source": [
    "api_key='supersecretpassword'\n",
    "pass_json = requests.get(f\"{api_url}/hashes/{api_key}\").json()\n",
    "all_passwords = [c[\"password\"] for c in pass_json]\n",
    "all_passwords"
   ]
  },
  {
   "cell_type": "code",
   "execution_count": 51,
   "metadata": {},
   "outputs": [],
   "source": [
    "names_json = requests.get(f\"{api_url}/first_names\").json()\n",
    "all_names = [c[\"first_name\"] for c in names_json]\n",
    "usernames_json = requests.get(f\"{api_url}/users\").json()\n",
    "all_usernames = [c[\"username\"] for c in usernames_json]"
   ]
  },
  {
   "cell_type": "code",
   "execution_count": 52,
   "metadata": {},
   "outputs": [
    {
     "data": {
      "text/plain": [
       "['Nicolas', 'admin']"
      ]
     },
     "execution_count": 52,
     "metadata": {},
     "output_type": "execute_result"
    }
   ],
   "source": [
    "all_names"
   ]
  },
  {
   "cell_type": "code",
   "execution_count": 53,
   "metadata": {},
   "outputs": [
    {
     "data": {
      "text/plain": [
       "['nmanduley', 'admin']"
      ]
     },
     "execution_count": 53,
     "metadata": {},
     "output_type": "execute_result"
    }
   ],
   "source": [
    "all_usernames"
   ]
  },
  {
   "cell_type": "code",
   "execution_count": null,
   "metadata": {},
   "outputs": [],
   "source": []
  }
 ],
 "metadata": {
  "kernelspec": {
   "display_name": "core",
   "language": "python",
   "name": "python3"
  },
  "language_info": {
   "codemirror_mode": {
    "name": "ipython",
    "version": 3
   },
   "file_extension": ".py",
   "mimetype": "text/x-python",
   "name": "python",
   "nbconvert_exporter": "python",
   "pygments_lexer": "ipython3",
   "version": "3.9.13"
  },
  "orig_nbformat": 4,
  "vscode": {
   "interpreter": {
    "hash": "d3c6c0ed584c41c6a98692036edee3a9ae75e8fb1758ae731ddbeee0007edfe1"
   }
  }
 },
 "nbformat": 4,
 "nbformat_minor": 2
}
